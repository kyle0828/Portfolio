{
 "cells": [
  {
   "cell_type": "code",
   "execution_count": 2,
   "metadata": {},
   "outputs": [],
   "source": [
    "from selenium import webdriver\n",
    "from selenium.webdriver.common.by import By\n",
    "from bs4 import BeautifulSoup\n",
    "\n",
    "import os\n",
    "import pandas as pd\n",
    "import time\n",
    "\n",
    "import win32com.client as win32 \n",
    "from pathlib import Path"
   ]
  },
  {
   "cell_type": "code",
   "execution_count": null,
   "metadata": {},
   "outputs": [],
   "source": [
    "company_df = pd.read_excel('客戶資料-公發以上.xlsx')\n",
    "com_code_ls = company_df[\"stock_num\"].to_list()\n",
    "\n",
    "\n",
    "# # GET remaining values\n",
    "# index = com_code_ls.index(\"6913\")\n",
    "\n",
    "# # slice list to get remaining values\n",
    "# remaining_values = com_code_ls[index+1:]\n",
    "# print(com_code_ls)"
   ]
  },
  {
   "attachments": {},
   "cell_type": "markdown",
   "metadata": {},
   "source": [
    "### Download XBRL html file from [MOPS 公開資訊觀測站](https://mops.twse.com.tw/mops/web/t203sb01)"
   ]
  },
  {
   "cell_type": "code",
   "execution_count": null,
   "metadata": {},
   "outputs": [],
   "source": [
    "driver = webdriver.Chrome()\n",
    "driver.get(\"https://mops.twse.com.tw/mops/web/t203sb01\")\n",
    "company_code = driver.find_element(By.ID, \"co_id\")\n",
    "\n",
    "\n",
    "# for company in remaining_values:\n",
    "num = driver.find_element(By.ID,'co_id')\n",
    "# num.send_keys(f'{company}')\n",
    "num.send_keys('000218')\n",
    "\n",
    "search = driver.find_element(By.XPATH,'/html/body/center/table/tbody/tr/td/div[4]/table/tbody/tr/td/div/table/tbody/tr/td[3]/div/div[3]/form/table/tbody/tr/td[4]/table/tbody/tr/td[2]/div/div/input')\n",
    "driver.execute_script('arguments[0].click();', search)\n",
    "soup = BeautifulSoup(driver.page_source,'html.parser')\n",
    "\n",
    "time.sleep(5)\n",
    "\n",
    "tds = driver.find_elements(By.TAG_NAME, 'td')\n",
    "for i in range(len(tds)):\n",
    "\n",
    "    if tds[i].text == '110Q4' and tds[i+1].text == '合併':\n",
    "        download = driver.find_element(By.XPATH, f'/html/body/center/table/tbody/tr/td/div[4]/table/tbody/tr/td/div/table/tbody/tr/td[3]/div/div[5]/div/form/table/tbody/tr[4]/td[4]/input')\n",
    "        driver.execute_script('arguments[0].click();', download)\n",
    "    \n",
    "    elif tds[i].text == '111Q2' and tds[i+1].text == '合併':\n",
    "        download = driver.find_element(By.XPATH, '/html/body/center/table/tbody/tr/td/div[4]/table/tbody/tr/td/div/table/tbody/tr/td[3]/div/div[5]/div/form/table/tbody/tr[3]/td[4]/input')\n",
    "        driver.execute_script('arguments[0].click();', download)\n",
    "    \n",
    "    else:\n",
    "        pass\n",
    "\n",
    "    num.clear()\n",
    "time.sleep(8)\n",
    "\n",
    "driver.close()"
   ]
  },
  {
   "attachments": {},
   "cell_type": "markdown",
   "metadata": {},
   "source": [
    "### Retrieve Desired Data from the html files"
   ]
  },
  {
   "cell_type": "code",
   "execution_count": 4,
   "metadata": {},
   "outputs": [
    {
     "ename": "TypeError",
     "evalue": "bad operand type for unary ~: 'float'",
     "output_type": "error",
     "traceback": [
      "\u001b[1;31m---------------------------------------------------------------------------\u001b[0m",
      "\u001b[1;31mTypeError\u001b[0m                                 Traceback (most recent call last)",
      "Cell \u001b[1;32mIn[4], line 43\u001b[0m\n\u001b[0;32m     40\u001b[0m     df[\u001b[39m'\u001b[39m\u001b[39mCompany\u001b[39m\u001b[39m'\u001b[39m] \u001b[39m=\u001b[39m df[\u001b[39m'\u001b[39m\u001b[39mCompany\u001b[39m\u001b[39m'\u001b[39m]\u001b[39m.\u001b[39mstr\u001b[39m.\u001b[39mreplace(\u001b[39m\"\u001b[39m\u001b[39m(註)\u001b[39m\u001b[39m\"\u001b[39m, \u001b[39m'\u001b[39m\u001b[39m'\u001b[39m, regex\u001b[39m=\u001b[39m\u001b[39mFalse\u001b[39;00m) \u001b[39m#remove \"(註)\"\u001b[39;00m\n\u001b[0;32m     42\u001b[0m     \u001b[39m# df[~mask].to_excel(f'Result/{audit_team}_{client_code}_{stock_number}_{company_name}.xlsx', index=False)\u001b[39;00m\n\u001b[1;32m---> 43\u001b[0m     df[\u001b[39m~\u001b[39;49mmask]\u001b[39m.\u001b[39mto_excel(\u001b[39mf\u001b[39m\u001b[39m'\u001b[39m\u001b[39mResult/\u001b[39m\u001b[39m{\u001b[39;00mstock_number\u001b[39m}\u001b[39;00m\u001b[39m_\u001b[39m\u001b[39m{\u001b[39;00mcompany_name\u001b[39m}\u001b[39;00m\u001b[39m.xlsx\u001b[39m\u001b[39m'\u001b[39m, index\u001b[39m=\u001b[39m\u001b[39mFalse\u001b[39;00m)\n\u001b[0;32m     45\u001b[0m \u001b[39melse\u001b[39;00m:\n\u001b[0;32m     46\u001b[0m     df \u001b[39m=\u001b[39m pd\u001b[39m.\u001b[39mDataFrame({\u001b[39m'\u001b[39m\u001b[39mCompany\u001b[39m\u001b[39m'\u001b[39m: company_name, \u001b[39m'\u001b[39m\u001b[39m查核事務所\u001b[39m\u001b[39m'\u001b[39m:\u001b[39m'\u001b[39m\u001b[39m'\u001b[39m, \u001b[39m'\u001b[39m\u001b[39mClient Code\u001b[39m\u001b[39m'\u001b[39m:\u001b[39m'\u001b[39m\u001b[39m'\u001b[39m, \u001b[39m'\u001b[39m\u001b[39m公司類型\u001b[39m\u001b[39m'\u001b[39m:\u001b[39m'\u001b[39m\u001b[39m'\u001b[39m, \u001b[39m'\u001b[39m\u001b[39m關係\u001b[39m\u001b[39m'\u001b[39m:\u001b[39m'\u001b[39m\u001b[39m'\u001b[39m}, index\u001b[39m=\u001b[39m[\u001b[39m0\u001b[39m])\n",
      "File \u001b[1;32mc:\\Users\\kylechen\\AppData\\Local\\Programs\\Python\\Python311\\Lib\\site-packages\\pandas\\core\\generic.py:1522\u001b[0m, in \u001b[0;36mNDFrame.__invert__\u001b[1;34m(self)\u001b[0m\n\u001b[0;32m   1518\u001b[0m \u001b[39mif\u001b[39;00m \u001b[39mnot\u001b[39;00m \u001b[39mself\u001b[39m\u001b[39m.\u001b[39msize:\n\u001b[0;32m   1519\u001b[0m     \u001b[39m# inv fails with 0 len\u001b[39;00m\n\u001b[0;32m   1520\u001b[0m     \u001b[39mreturn\u001b[39;00m \u001b[39mself\u001b[39m\n\u001b[1;32m-> 1522\u001b[0m new_data \u001b[39m=\u001b[39m \u001b[39mself\u001b[39;49m\u001b[39m.\u001b[39;49m_mgr\u001b[39m.\u001b[39;49mapply(operator\u001b[39m.\u001b[39;49minvert)\n\u001b[0;32m   1523\u001b[0m \u001b[39mreturn\u001b[39;00m \u001b[39mself\u001b[39m\u001b[39m.\u001b[39m_constructor(new_data)\u001b[39m.\u001b[39m__finalize__(\u001b[39mself\u001b[39m, method\u001b[39m=\u001b[39m\u001b[39m\"\u001b[39m\u001b[39m__invert__\u001b[39m\u001b[39m\"\u001b[39m)\n",
      "File \u001b[1;32mc:\\Users\\kylechen\\AppData\\Local\\Programs\\Python\\Python311\\Lib\\site-packages\\pandas\\core\\internals\\managers.py:350\u001b[0m, in \u001b[0;36mBaseBlockManager.apply\u001b[1;34m(self, f, align_keys, ignore_failures, **kwargs)\u001b[0m\n\u001b[0;32m    348\u001b[0m \u001b[39mtry\u001b[39;00m:\n\u001b[0;32m    349\u001b[0m     \u001b[39mif\u001b[39;00m callable(f):\n\u001b[1;32m--> 350\u001b[0m         applied \u001b[39m=\u001b[39m b\u001b[39m.\u001b[39;49mapply(f, \u001b[39m*\u001b[39;49m\u001b[39m*\u001b[39;49mkwargs)\n\u001b[0;32m    351\u001b[0m     \u001b[39melse\u001b[39;00m:\n\u001b[0;32m    352\u001b[0m         applied \u001b[39m=\u001b[39m \u001b[39mgetattr\u001b[39m(b, f)(\u001b[39m*\u001b[39m\u001b[39m*\u001b[39mkwargs)\n",
      "File \u001b[1;32mc:\\Users\\kylechen\\AppData\\Local\\Programs\\Python\\Python311\\Lib\\site-packages\\pandas\\core\\internals\\blocks.py:351\u001b[0m, in \u001b[0;36mBlock.apply\u001b[1;34m(self, func, **kwargs)\u001b[0m\n\u001b[0;32m    345\u001b[0m \u001b[39m@final\u001b[39m\n\u001b[0;32m    346\u001b[0m \u001b[39mdef\u001b[39;00m \u001b[39mapply\u001b[39m(\u001b[39mself\u001b[39m, func, \u001b[39m*\u001b[39m\u001b[39m*\u001b[39mkwargs) \u001b[39m-\u001b[39m\u001b[39m>\u001b[39m \u001b[39mlist\u001b[39m[Block]:\n\u001b[0;32m    347\u001b[0m     \u001b[39m\"\"\"\u001b[39;00m\n\u001b[0;32m    348\u001b[0m \u001b[39m    apply the function to my values; return a block if we are not\u001b[39;00m\n\u001b[0;32m    349\u001b[0m \u001b[39m    one\u001b[39;00m\n\u001b[0;32m    350\u001b[0m \u001b[39m    \"\"\"\u001b[39;00m\n\u001b[1;32m--> 351\u001b[0m     result \u001b[39m=\u001b[39m func(\u001b[39mself\u001b[39;49m\u001b[39m.\u001b[39;49mvalues, \u001b[39m*\u001b[39;49m\u001b[39m*\u001b[39;49mkwargs)\n\u001b[0;32m    353\u001b[0m     \u001b[39mreturn\u001b[39;00m \u001b[39mself\u001b[39m\u001b[39m.\u001b[39m_split_op_result(result)\n",
      "\u001b[1;31mTypeError\u001b[0m: bad operand type for unary ~: 'float'"
     ]
    }
   ],
   "source": [
    "dir = 'XBRL_file'\n",
    "for filename in os.listdir(dir):\n",
    "    fname = os.path.join(dir,filename)\n",
    "    with open(fname, 'r', encoding=\"utf-8\") as f:\n",
    "        soup = BeautifulSoup(f,'html.parser')\n",
    "\n",
    "        # Find the table with the desired th tag\n",
    "        th_tag_text = \"列入合併財務報表之子公司\"\n",
    "        table = None\n",
    "        for th in soup.find_all(\"th\"):\n",
    "            if th.text.strip() == th_tag_text:\n",
    "                table = th.find_parent(\"table\")\n",
    "                break\n",
    "        \n",
    "        header_str = soup.find_all('div', class_='header')[0].select_one(\"span.zh\").text\n",
    "        start_index = header_str.index(' ')\n",
    "        if \"2021年\" in header_str:\n",
    "            end_index = header_str.index('2021年')\n",
    "        elif \"2022年\" in header_str:\n",
    "            end_index = header_str.index('2022年')\n",
    "        company_name = header_str[start_index : end_index].strip()\n",
    "        stock_number = header_str[:start_index]\n",
    "\n",
    "    \n",
    "        # info_dict = company_df[company_df['stock_num'] == stock_number].to_dict('records')\n",
    "        # audit_team = info_dict[0]['team']\n",
    "        # client_code = info_dict[0]['client_code']\n",
    "    \n",
    "\n",
    "        # Convert the table to a Pandas DataFrame\n",
    "        if table is not None:\n",
    "            df = pd.read_html(str(table), flavor='bs4')[0]\n",
    "            df.columns = df.columns.droplevel([0, 1]) #remove first two levels\n",
    "            appended_values = pd.concat([df['投資公司名稱'], df['子公司名稱']]).unique()\n",
    "\n",
    "            df = pd.DataFrame({'Company': appended_values, '查核事務所':'', 'Client Code':'', '公司類型':'', '關係':''})\n",
    "            exclude_list = ['註1', '備註', '本 公 司', '註：', '本公司', '註:'] # Define the values to exclude\n",
    "            mask = df['Company'].str.contains('|'.join(exclude_list))\n",
    "            \n",
    "            df['Company'] = df['Company'].str.replace(\"(註)\", '', regex=False) #remove \"(註)\"\n",
    "\n",
    "            # df[~mask].to_excel(f'Result/{audit_team}_{client_code}_{stock_number}_{company_name}.xlsx', index=False)\n",
    "            df[~mask].to_excel(f'Result/{stock_number}_{company_name}.xlsx', index=False)\n",
    "            \n",
    "        else:\n",
    "            df = pd.DataFrame({'Company': company_name, '查核事務所':'', 'Client Code':'', '公司類型':'', '關係':''}, index=[0])\n",
    "            # df.to_excel(f'Result/{audit_team}_{client_code}_{stock_number}_{company_name}.xlsx', index=False)\n",
    "            df.to_excel(f'Result/{stock_number}_{company_name}.xlsx', index=False)"
   ]
  },
  {
   "cell_type": "code",
   "execution_count": 120,
   "metadata": {},
   "outputs": [],
   "source": [
    "for i in range(len(company_df)):\n",
    "    stk_num, team, client_c, client_n = company_df['stock_num'][i], company_df['team'][i], company_df['client_code'][i], company_df['客戶名稱'][i]\n",
    "    df_indiv = pd.DataFrame({'Company': client_n, '查核事務所':'', 'Client Code':'', '公司類型':'', '關係':''}, index=[0])\n",
    "    df_indiv.to_excel(f'Result2/{team}_{client_c}_{stk_num}_{client_n}.xlsx', index=False)"
   ]
  },
  {
   "attachments": {},
   "cell_type": "markdown",
   "metadata": {},
   "source": [
    "### VBA"
   ]
  },
  {
   "cell_type": "code",
   "execution_count": 121,
   "metadata": {},
   "outputs": [],
   "source": [
    "excel = win32.gencache.EnsureDispatch('Excel.Application')\n",
    "\n",
    "# excel can be visible or not\n",
    "excel.Visible = False\n",
    "\n",
    "# open workbooks\n",
    "f_path = Path.cwd()\n",
    "f_path2 = f_path /'Result/' \n",
    "\n",
    "template_f = 'A10A_AMI002_5272_笙科電子股份有限公司.xlsx'\n",
    "# template = f_path / template_f\n",
    "\n",
    "for filename in os.listdir(f_path2):\n",
    "    fname = os.path.join(f_path2,filename)\n",
    "\n",
    "    template_wb = excel.Workbooks.Open(template_f)\n",
    "    target_wb = excel.Workbooks.Open(fname)\n",
    "#1. copy and paste \"集團公費邏輯指標 3-1 非審計服務公費說明\" sheet to each file\n",
    "    template_wb.Worksheets(\"集團公費邏輯指標 3-1 非審計服務公費說明\").Copy(Before=target_wb.Sheets(1))\n",
    "\n",
    "#2. copy and paste drop down list (data validation) to each file\n",
    "    dropdown_sheet = template_wb.Worksheets(\"Sheet1\")\n",
    "    target_sheet = target_wb.Worksheets(\"Sheet1\")\n",
    "    rowCnt_f = target_sheet.UsedRange.Rows.Count\n",
    "    for i in range(2, rowCnt_f+1):\n",
    "        dropdown_sheet.Range(\"B2:E2\").Copy()\n",
    "        target_sheet.Range(\"B%s:E%s\"%(i,i)).PasteSpecial(Paste=-4104)\n",
    "\n",
    "#3. set column width and font\n",
    "    info_ws = target_wb.Worksheets(\"集團公費邏輯指標 3-1 非審計服務公費說明\")\n",
    "    info_ws.Range(\"A:B\").Font.Name = \"Calibri\"\n",
    "    target_sheet.Range(\"A:A\").ColumnWidth = 100\n",
    "    target_sheet.Range(\"B:E\").ColumnWidth = 15\n",
    "    target_sheet.Range(\"A:E\").Font.Name = \"Calibri\"\n",
    "\n",
    "\n",
    "    # remove hashtag to save and quit modified Excel file\n",
    "    target_wb.Save()\n",
    "    target_wb.Close(True)\n",
    "excel.Quit()"
   ]
  }
 ],
 "metadata": {
  "kernelspec": {
   "display_name": "Python 3",
   "language": "python",
   "name": "python3"
  },
  "language_info": {
   "codemirror_mode": {
    "name": "ipython",
    "version": 3
   },
   "file_extension": ".py",
   "mimetype": "text/x-python",
   "name": "python",
   "nbconvert_exporter": "python",
   "pygments_lexer": "ipython3",
   "version": "3.11.0"
  },
  "orig_nbformat": 4
 },
 "nbformat": 4,
 "nbformat_minor": 2
}
